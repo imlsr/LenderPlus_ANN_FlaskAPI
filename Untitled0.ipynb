{
 "cells": [
  {
   "cell_type": "code",
   "execution_count": 38,
   "metadata": {
    "id": "o0JN3IEsMAne"
   },
   "outputs": [],
   "source": [
    "import pandas as pd\n",
    "import numpy as np"
   ]
  },
  {
   "cell_type": "code",
   "execution_count": 39,
   "metadata": {
    "id": "OfSRUbIeOmXR"
   },
   "outputs": [],
   "source": [
    "df = pd.read_csv('../dbd_lend_data.csv')"
   ]
  },
  {
   "cell_type": "code",
   "execution_count": 40,
   "metadata": {
    "colab": {
     "base_uri": "https://localhost:8080/",
     "height": 195
    },
    "id": "1fq3AZiXPH0a",
    "outputId": "417595da-6ff0-4f5f-ca04-8295e8ccc072"
   },
   "outputs": [
    {
     "data": {
      "text/html": [
       "<div>\n",
       "<style scoped>\n",
       "    .dataframe tbody tr th:only-of-type {\n",
       "        vertical-align: middle;\n",
       "    }\n",
       "\n",
       "    .dataframe tbody tr th {\n",
       "        vertical-align: top;\n",
       "    }\n",
       "\n",
       "    .dataframe thead th {\n",
       "        text-align: right;\n",
       "    }\n",
       "</style>\n",
       "<table border=\"1\" class=\"dataframe\">\n",
       "  <thead>\n",
       "    <tr style=\"text-align: right;\">\n",
       "      <th></th>\n",
       "      <th>loan_amnt</th>\n",
       "      <th>term</th>\n",
       "      <th>int_rate</th>\n",
       "      <th>annual_inc</th>\n",
       "      <th>verification_status</th>\n",
       "      <th>loan_status</th>\n",
       "    </tr>\n",
       "  </thead>\n",
       "  <tbody>\n",
       "    <tr>\n",
       "      <th>0</th>\n",
       "      <td>10000</td>\n",
       "      <td>36 months</td>\n",
       "      <td>11.44</td>\n",
       "      <td>117000.0</td>\n",
       "      <td>Not Verified</td>\n",
       "      <td>Fully Paid</td>\n",
       "    </tr>\n",
       "    <tr>\n",
       "      <th>1</th>\n",
       "      <td>8000</td>\n",
       "      <td>36 months</td>\n",
       "      <td>11.99</td>\n",
       "      <td>65000.0</td>\n",
       "      <td>Not Verified</td>\n",
       "      <td>Fully Paid</td>\n",
       "    </tr>\n",
       "    <tr>\n",
       "      <th>2</th>\n",
       "      <td>15600</td>\n",
       "      <td>36 months</td>\n",
       "      <td>10.49</td>\n",
       "      <td>43057.0</td>\n",
       "      <td>Source Verified</td>\n",
       "      <td>Fully Paid</td>\n",
       "    </tr>\n",
       "    <tr>\n",
       "      <th>3</th>\n",
       "      <td>7200</td>\n",
       "      <td>36 months</td>\n",
       "      <td>6.49</td>\n",
       "      <td>54000.0</td>\n",
       "      <td>Not Verified</td>\n",
       "      <td>Fully Paid</td>\n",
       "    </tr>\n",
       "    <tr>\n",
       "      <th>4</th>\n",
       "      <td>24375</td>\n",
       "      <td>60 months</td>\n",
       "      <td>17.27</td>\n",
       "      <td>55000.0</td>\n",
       "      <td>Verified</td>\n",
       "      <td>Charged Off</td>\n",
       "    </tr>\n",
       "  </tbody>\n",
       "</table>\n",
       "</div>"
      ],
      "text/plain": [
       "   loan_amnt        term  int_rate  annual_inc verification_status  \\\n",
       "0      10000   36 months     11.44    117000.0        Not Verified   \n",
       "1       8000   36 months     11.99     65000.0        Not Verified   \n",
       "2      15600   36 months     10.49     43057.0     Source Verified   \n",
       "3       7200   36 months      6.49     54000.0        Not Verified   \n",
       "4      24375   60 months     17.27     55000.0            Verified   \n",
       "\n",
       "   loan_status  \n",
       "0   Fully Paid  \n",
       "1   Fully Paid  \n",
       "2   Fully Paid  \n",
       "3   Fully Paid  \n",
       "4  Charged Off  "
      ]
     },
     "execution_count": 40,
     "metadata": {},
     "output_type": "execute_result"
    }
   ],
   "source": [
    "df.head()"
   ]
  },
  {
   "cell_type": "code",
   "execution_count": 41,
   "metadata": {
    "id": "MeKgNJM9PzW3"
   },
   "outputs": [],
   "source": [
    "df = df.drop('verification_status',axis=1)"
   ]
  },
  {
   "cell_type": "code",
   "execution_count": 42,
   "metadata": {
    "colab": {
     "base_uri": "https://localhost:8080/",
     "height": 195
    },
    "id": "o_MqLa6zQ-92",
    "outputId": "931f61da-4787-4e3a-b23d-370ec6d0bf63"
   },
   "outputs": [
    {
     "data": {
      "text/html": [
       "<div>\n",
       "<style scoped>\n",
       "    .dataframe tbody tr th:only-of-type {\n",
       "        vertical-align: middle;\n",
       "    }\n",
       "\n",
       "    .dataframe tbody tr th {\n",
       "        vertical-align: top;\n",
       "    }\n",
       "\n",
       "    .dataframe thead th {\n",
       "        text-align: right;\n",
       "    }\n",
       "</style>\n",
       "<table border=\"1\" class=\"dataframe\">\n",
       "  <thead>\n",
       "    <tr style=\"text-align: right;\">\n",
       "      <th></th>\n",
       "      <th>loan_amnt</th>\n",
       "      <th>term</th>\n",
       "      <th>int_rate</th>\n",
       "      <th>annual_inc</th>\n",
       "      <th>loan_status</th>\n",
       "    </tr>\n",
       "  </thead>\n",
       "  <tbody>\n",
       "    <tr>\n",
       "      <th>0</th>\n",
       "      <td>10000</td>\n",
       "      <td>36 months</td>\n",
       "      <td>11.44</td>\n",
       "      <td>117000.0</td>\n",
       "      <td>Fully Paid</td>\n",
       "    </tr>\n",
       "    <tr>\n",
       "      <th>1</th>\n",
       "      <td>8000</td>\n",
       "      <td>36 months</td>\n",
       "      <td>11.99</td>\n",
       "      <td>65000.0</td>\n",
       "      <td>Fully Paid</td>\n",
       "    </tr>\n",
       "    <tr>\n",
       "      <th>2</th>\n",
       "      <td>15600</td>\n",
       "      <td>36 months</td>\n",
       "      <td>10.49</td>\n",
       "      <td>43057.0</td>\n",
       "      <td>Fully Paid</td>\n",
       "    </tr>\n",
       "    <tr>\n",
       "      <th>3</th>\n",
       "      <td>7200</td>\n",
       "      <td>36 months</td>\n",
       "      <td>6.49</td>\n",
       "      <td>54000.0</td>\n",
       "      <td>Fully Paid</td>\n",
       "    </tr>\n",
       "    <tr>\n",
       "      <th>4</th>\n",
       "      <td>24375</td>\n",
       "      <td>60 months</td>\n",
       "      <td>17.27</td>\n",
       "      <td>55000.0</td>\n",
       "      <td>Charged Off</td>\n",
       "    </tr>\n",
       "  </tbody>\n",
       "</table>\n",
       "</div>"
      ],
      "text/plain": [
       "   loan_amnt        term  int_rate  annual_inc  loan_status\n",
       "0      10000   36 months     11.44    117000.0   Fully Paid\n",
       "1       8000   36 months     11.99     65000.0   Fully Paid\n",
       "2      15600   36 months     10.49     43057.0   Fully Paid\n",
       "3       7200   36 months      6.49     54000.0   Fully Paid\n",
       "4      24375   60 months     17.27     55000.0  Charged Off"
      ]
     },
     "execution_count": 42,
     "metadata": {},
     "output_type": "execute_result"
    }
   ],
   "source": [
    "df.head()"
   ]
  },
  {
   "cell_type": "code",
   "execution_count": 43,
   "metadata": {
    "colab": {
     "base_uri": "https://localhost:8080/"
    },
    "id": "Go7ahSjVRAFv",
    "outputId": "029312c3-4c3d-4f20-8e5e-cfd18ec8c4a6"
   },
   "outputs": [
    {
     "data": {
      "text/plain": [
       "Fully Paid     318357\n",
       "Charged Off     77673\n",
       "Name: loan_status, dtype: int64"
      ]
     },
     "execution_count": 43,
     "metadata": {},
     "output_type": "execute_result"
    }
   ],
   "source": [
    "df['loan_status'].value_counts()"
   ]
  },
  {
   "cell_type": "code",
   "execution_count": 44,
   "metadata": {
    "id": "e-nzTnocS6vx"
   },
   "outputs": [],
   "source": [
    "df['loan_status'] = df['loan_status'].apply(lambda loan : 1 if loan == 'Fully Paid' else 0)"
   ]
  },
  {
   "cell_type": "code",
   "execution_count": 45,
   "metadata": {
    "colab": {
     "base_uri": "https://localhost:8080/",
     "height": 195
    },
    "id": "_-_YbTFpTi8M",
    "outputId": "525c41b6-ca62-49ae-a825-f5e0ef8cd295"
   },
   "outputs": [
    {
     "data": {
      "text/html": [
       "<div>\n",
       "<style scoped>\n",
       "    .dataframe tbody tr th:only-of-type {\n",
       "        vertical-align: middle;\n",
       "    }\n",
       "\n",
       "    .dataframe tbody tr th {\n",
       "        vertical-align: top;\n",
       "    }\n",
       "\n",
       "    .dataframe thead th {\n",
       "        text-align: right;\n",
       "    }\n",
       "</style>\n",
       "<table border=\"1\" class=\"dataframe\">\n",
       "  <thead>\n",
       "    <tr style=\"text-align: right;\">\n",
       "      <th></th>\n",
       "      <th>loan_amnt</th>\n",
       "      <th>term</th>\n",
       "      <th>int_rate</th>\n",
       "      <th>annual_inc</th>\n",
       "      <th>loan_status</th>\n",
       "    </tr>\n",
       "  </thead>\n",
       "  <tbody>\n",
       "    <tr>\n",
       "      <th>0</th>\n",
       "      <td>10000</td>\n",
       "      <td>36</td>\n",
       "      <td>11.44</td>\n",
       "      <td>117000.0</td>\n",
       "      <td>1</td>\n",
       "    </tr>\n",
       "    <tr>\n",
       "      <th>1</th>\n",
       "      <td>8000</td>\n",
       "      <td>36</td>\n",
       "      <td>11.99</td>\n",
       "      <td>65000.0</td>\n",
       "      <td>1</td>\n",
       "    </tr>\n",
       "    <tr>\n",
       "      <th>2</th>\n",
       "      <td>15600</td>\n",
       "      <td>36</td>\n",
       "      <td>10.49</td>\n",
       "      <td>43057.0</td>\n",
       "      <td>1</td>\n",
       "    </tr>\n",
       "    <tr>\n",
       "      <th>3</th>\n",
       "      <td>7200</td>\n",
       "      <td>36</td>\n",
       "      <td>6.49</td>\n",
       "      <td>54000.0</td>\n",
       "      <td>1</td>\n",
       "    </tr>\n",
       "    <tr>\n",
       "      <th>4</th>\n",
       "      <td>24375</td>\n",
       "      <td>60</td>\n",
       "      <td>17.27</td>\n",
       "      <td>55000.0</td>\n",
       "      <td>0</td>\n",
       "    </tr>\n",
       "  </tbody>\n",
       "</table>\n",
       "</div>"
      ],
      "text/plain": [
       "   loan_amnt  term  int_rate  annual_inc  loan_status\n",
       "0      10000    36     11.44    117000.0            1\n",
       "1       8000    36     11.99     65000.0            1\n",
       "2      15600    36     10.49     43057.0            1\n",
       "3       7200    36      6.49     54000.0            1\n",
       "4      24375    60     17.27     55000.0            0"
      ]
     },
     "execution_count": 45,
     "metadata": {},
     "output_type": "execute_result"
    }
   ],
   "source": [
    "df.head()\n",
    "df['term'] = df['term'].apply(lambda term : int(term[:3]))\n",
    "df.head()"
   ]
  },
  {
   "cell_type": "code",
   "execution_count": 46,
   "metadata": {
    "id": "QhIWBS3KTvD2"
   },
   "outputs": [],
   "source": [
    "from sklearn.model_selection import train_test_split"
   ]
  },
  {
   "cell_type": "code",
   "execution_count": 47,
   "metadata": {
    "id": "2q9nD7SaT0gD"
   },
   "outputs": [],
   "source": [
    "X = df.drop('loan_status',axis=1).values"
   ]
  },
  {
   "cell_type": "code",
   "execution_count": 48,
   "metadata": {
    "id": "g-b79ua6UB8-"
   },
   "outputs": [],
   "source": [
    "y = df['loan_status'].values"
   ]
  },
  {
   "cell_type": "code",
   "execution_count": 49,
   "metadata": {
    "id": "POFwPU7kUE3V"
   },
   "outputs": [],
   "source": [
    "X_train, X_test, y_train, y_test = train_test_split(X,y,test_size=0.2, random_state=42)"
   ]
  },
  {
   "cell_type": "code",
   "execution_count": null,
   "metadata": {
    "id": "DjGWb2EMUle5"
   },
   "outputs": [],
   "source": []
  },
  {
   "cell_type": "code",
   "execution_count": null,
   "metadata": {
    "id": "JM_0SMlYUs9g"
   },
   "outputs": [],
   "source": [
    "\n"
   ]
  },
  {
   "cell_type": "code",
   "execution_count": null,
   "metadata": {
    "id": "DJ06fu2-Uu4w"
   },
   "outputs": [],
   "source": []
  },
  {
   "cell_type": "code",
   "execution_count": null,
   "metadata": {
    "id": "-Aa1YXGXU3Re"
   },
   "outputs": [],
   "source": []
  },
  {
   "cell_type": "code",
   "execution_count": 50,
   "metadata": {
    "id": "hc5jX8UFU8u5"
   },
   "outputs": [],
   "source": [
    "import tensorflow as tf\n",
    "from tensorflow.keras.models import Sequential\n",
    "from tensorflow.keras.layers import Dense,Dropout"
   ]
  },
  {
   "cell_type": "code",
   "execution_count": 51,
   "metadata": {
    "colab": {
     "base_uri": "https://localhost:8080/"
    },
    "id": "BTtfYwgpVXQz",
    "outputId": "abed3853-95fb-4215-d66d-86996895952c"
   },
   "outputs": [
    {
     "data": {
      "text/plain": [
       "(316824, 4)"
      ]
     },
     "execution_count": 51,
     "metadata": {},
     "output_type": "execute_result"
    }
   ],
   "source": [
    "X_train.shape"
   ]
  },
  {
   "cell_type": "code",
   "execution_count": 52,
   "metadata": {
    "id": "wnC9KfI4VdSg"
   },
   "outputs": [],
   "source": [
    "model = Sequential()\n",
    "\n",
    "model.add(Dense(4,activation='relu'))\n",
    "model.add(Dropout(0.2))\n",
    "\n",
    "model.add(Dense(2,activation='relu'))\n",
    "model.add(Dropout(0.2))\n",
    "\n",
    "model.add(Dense(units=1,activation='sigmoid'))\n",
    "\n",
    "model.compile(loss = 'binary_crossentropy',optimizer='adam')"
   ]
  },
  {
   "cell_type": "code",
   "execution_count": 53,
   "metadata": {
    "colab": {
     "base_uri": "https://localhost:8080/"
    },
    "id": "CSMp1lNfWDmI",
    "outputId": "1957248f-bb23-4127-d523-c8f639f8f035"
   },
   "outputs": [
    {
     "name": "stdout",
     "output_type": "stream",
     "text": [
      "Epoch 1/25\n",
      "1238/1238 [==============================] - 3s 2ms/step - loss: 1240.3731 - val_loss: 0.7400\n",
      "Epoch 2/25\n",
      "1238/1238 [==============================] - 2s 2ms/step - loss: 0.8417 - val_loss: 0.6453\n",
      "Epoch 3/25\n",
      "1238/1238 [==============================] - 2s 2ms/step - loss: 0.7497 - val_loss: 0.5916\n",
      "Epoch 4/25\n",
      "1238/1238 [==============================] - 2s 2ms/step - loss: 0.8188 - val_loss: 0.5444\n",
      "Epoch 5/25\n",
      "1238/1238 [==============================] - 2s 2ms/step - loss: 0.8958 - val_loss: 0.5198\n",
      "Epoch 6/25\n",
      "1238/1238 [==============================] - 2s 2ms/step - loss: 0.7623 - val_loss: 0.4958\n",
      "Epoch 7/25\n",
      "1238/1238 [==============================] - 2s 2ms/step - loss: 0.6955 - val_loss: 0.4958\n",
      "Epoch 8/25\n",
      "1238/1238 [==============================] - 2s 2ms/step - loss: 0.6146 - val_loss: 0.4958\n",
      "Epoch 9/25\n",
      "1238/1238 [==============================] - 2s 2ms/step - loss: 0.6508 - val_loss: 0.4959\n",
      "Epoch 10/25\n",
      "1238/1238 [==============================] - 2s 2ms/step - loss: 0.6157 - val_loss: 0.4958\n",
      "Epoch 11/25\n",
      "1238/1238 [==============================] - 2s 2ms/step - loss: 0.5269 - val_loss: 0.4958\n",
      "Epoch 12/25\n",
      "1238/1238 [==============================] - 2s 2ms/step - loss: 0.5080 - val_loss: 0.4958\n",
      "Epoch 13/25\n",
      "1238/1238 [==============================] - 2s 2ms/step - loss: 0.4979 - val_loss: 0.4957\n",
      "Epoch 14/25\n",
      "1238/1238 [==============================] - 2s 2ms/step - loss: 0.4949 - val_loss: 0.4957\n",
      "Epoch 15/25\n",
      "1238/1238 [==============================] - 2s 2ms/step - loss: 0.4957 - val_loss: 0.4958\n",
      "Epoch 16/25\n",
      "1238/1238 [==============================] - 2s 2ms/step - loss: 0.4961 - val_loss: 0.4957\n",
      "Epoch 17/25\n",
      "1238/1238 [==============================] - 2s 2ms/step - loss: 0.4933 - val_loss: 0.4958\n",
      "Epoch 18/25\n",
      "1238/1238 [==============================] - 2s 2ms/step - loss: 0.4965 - val_loss: 0.4957\n",
      "Epoch 19/25\n",
      "1238/1238 [==============================] - 2s 2ms/step - loss: 0.4951 - val_loss: 0.4957\n",
      "Epoch 20/25\n",
      "1238/1238 [==============================] - 2s 2ms/step - loss: 0.4938 - val_loss: 0.4957\n",
      "Epoch 21/25\n",
      "1238/1238 [==============================] - 2s 2ms/step - loss: 0.4941 - val_loss: 0.4957\n",
      "Epoch 22/25\n",
      "1238/1238 [==============================] - 2s 2ms/step - loss: 0.4940 - val_loss: 0.4957\n",
      "Epoch 23/25\n",
      "1238/1238 [==============================] - 2s 2ms/step - loss: 0.4957 - val_loss: 0.4958\n",
      "Epoch 24/25\n",
      "1238/1238 [==============================] - 2s 2ms/step - loss: 0.4934 - val_loss: 0.4957\n",
      "Epoch 25/25\n",
      "1238/1238 [==============================] - 2s 2ms/step - loss: 0.5161 - val_loss: 0.4957\n"
     ]
    },
    {
     "data": {
      "text/plain": [
       "<tensorflow.python.keras.callbacks.History at 0x25e74b9a198>"
      ]
     },
     "execution_count": 53,
     "metadata": {},
     "output_type": "execute_result"
    }
   ],
   "source": [
    "model.fit(x=X_train,y=y_train,epochs=25,batch_size=256,validation_data=(X_test,y_test))"
   ]
  },
  {
   "cell_type": "code",
   "execution_count": 54,
   "metadata": {
    "id": "a9U45_pWWeJO"
   },
   "outputs": [],
   "source": [
    "model.save('lending.h5')"
   ]
  },
  {
   "cell_type": "code",
   "execution_count": null,
   "metadata": {
    "id": "AfqByzMJWyyI"
   },
   "outputs": [],
   "source": []
  },
  {
   "cell_type": "code",
   "execution_count": null,
   "metadata": {
    "colab": {
     "base_uri": "https://localhost:8080/"
    },
    "id": "eEzwj9wDXoOb",
    "outputId": "da1f054e-f0c0-4d3c-ce87-d1d66d401405"
   },
   "outputs": [],
   "source": []
  },
  {
   "cell_type": "code",
   "execution_count": 55,
   "metadata": {
    "id": "icj8HnzkXux5"
   },
   "outputs": [],
   "source": [
    "from tensorflow.keras.models import load_model"
   ]
  },
  {
   "cell_type": "code",
   "execution_count": 56,
   "metadata": {
    "id": "pQulZZh_XyzG"
   },
   "outputs": [],
   "source": [
    "p2p_model = load_model('lending.h5')"
   ]
  },
  {
   "cell_type": "code",
   "execution_count": null,
   "metadata": {
    "id": "Eum5RfXZX6c0"
   },
   "outputs": [],
   "source": []
  },
  {
   "cell_type": "code",
   "execution_count": 57,
   "metadata": {
    "colab": {
     "base_uri": "https://localhost:8080/",
     "height": 77
    },
    "id": "z_IFYi8ZYCWn",
    "outputId": "2d48aef7-6771-4d80-fc85-2ca289dde0ae"
   },
   "outputs": [
    {
     "data": {
      "text/html": [
       "<div>\n",
       "<style scoped>\n",
       "    .dataframe tbody tr th:only-of-type {\n",
       "        vertical-align: middle;\n",
       "    }\n",
       "\n",
       "    .dataframe tbody tr th {\n",
       "        vertical-align: top;\n",
       "    }\n",
       "\n",
       "    .dataframe thead th {\n",
       "        text-align: right;\n",
       "    }\n",
       "</style>\n",
       "<table border=\"1\" class=\"dataframe\">\n",
       "  <thead>\n",
       "    <tr style=\"text-align: right;\">\n",
       "      <th></th>\n",
       "      <th>loan_amnt</th>\n",
       "      <th>term</th>\n",
       "      <th>int_rate</th>\n",
       "      <th>annual_inc</th>\n",
       "      <th>loan_status</th>\n",
       "    </tr>\n",
       "  </thead>\n",
       "  <tbody>\n",
       "    <tr>\n",
       "      <th>0</th>\n",
       "      <td>10000</td>\n",
       "      <td>36</td>\n",
       "      <td>11.44</td>\n",
       "      <td>117000.0</td>\n",
       "      <td>1</td>\n",
       "    </tr>\n",
       "  </tbody>\n",
       "</table>\n",
       "</div>"
      ],
      "text/plain": [
       "   loan_amnt  term  int_rate  annual_inc  loan_status\n",
       "0      10000    36     11.44    117000.0            1"
      ]
     },
     "execution_count": 57,
     "metadata": {},
     "output_type": "execute_result"
    }
   ],
   "source": [
    "df.head(1)"
   ]
  },
  {
   "cell_type": "code",
   "execution_count": 58,
   "metadata": {
    "id": "AaLIjIS5Zgv4"
   },
   "outputs": [],
   "source": [
    "def return_prediction(model,sample_json):\n",
    "\n",
    "  l_amnt = sample_json[\"loan_amnt\"]\n",
    "  t = sample_json[\"term\"]\n",
    "  i_rate = sample_json[\"int_rate\"]\n",
    "  a_inc = sample_json[\"annual_inc\"]\n",
    "\n",
    "  loan = [[l_amnt,t,i_rate,a_inc]]\n",
    "\n",
    "  loan_status_pred = model.predict(loan)[0]\n",
    "\n",
    "  return loan_status_pred[0]\n",
    "\n",
    "\n"
   ]
  },
  {
   "cell_type": "code",
   "execution_count": 61,
   "metadata": {
    "id": "JL1l-AeEa5Wy"
   },
   "outputs": [],
   "source": [
    "loan_example = {\"loan_amnt\":10000000 , \"term\":60 , \"int_rate\":11.44 , \"annual_inc\":20000}"
   ]
  },
  {
   "cell_type": "code",
   "execution_count": 62,
   "metadata": {
    "colab": {
     "base_uri": "https://localhost:8080/"
    },
    "id": "zZOnLNrqbVtH",
    "outputId": "b5e20cb2-abf5-449a-baa8-a39b6e42d1a9"
   },
   "outputs": [
    {
     "data": {
      "text/plain": [
       "0.8043009"
      ]
     },
     "execution_count": 62,
     "metadata": {},
     "output_type": "execute_result"
    }
   ],
   "source": [
    "return_prediction(p2p_model,loan_example)"
   ]
  },
  {
   "cell_type": "code",
   "execution_count": 30,
   "metadata": {
    "id": "DnKUW45BbjDd"
   },
   "outputs": [],
   "source": [
    "#CODE FOR DEPLOYMENT"
   ]
  },
  {
   "cell_type": "code",
   "execution_count": 83,
   "metadata": {
    "id": "0E9CPi8ocbCx"
   },
   "outputs": [
    {
     "name": "stderr",
     "output_type": "stream",
     "text": [
      "C:\\Users\\likhith\\AppData\\Roaming\\Python\\Python37\\site-packages\\sklearn\\base.py:315: UserWarning: Trying to unpickle estimator MinMaxScaler from version 0.22.2.post1 when using version 0.24.0. This might lead to breaking code or invalid results. Use at your own risk.\n",
      "  UserWarning)\n"
     ]
    }
   ],
   "source": [
    "from tensorflow.keras.models import load_model\n",
    "import joblib\n",
    "\n",
    "p2p_model = load_model('lending.h5')\n",
    "p2p_scaler = joblib.load('lending_scaler.pk1')\n",
    "\n",
    "def return_prediction(model,scaler,sample_json):\n",
    "\n",
    "  l_amnt = sample_json[\"loan_amnt\"]\n",
    "  t = sample_json[\"term\"]\n",
    "  i_rate = sample_json[\"int_rate\"]\n",
    "  a_inc = sample_json[\"annual_inc\"]\n",
    "\n",
    "  loan = [[l_amnt,t,i_rate,a_inc]]\n",
    "\n",
    "  loan = scaler.transform(loan)\n",
    "\n",
    "  loan_status_pred = model.predict(loan)[0]\n",
    "\n",
    "  return loan_status_pred[0]\n"
   ]
  },
  {
   "cell_type": "code",
   "execution_count": null,
   "metadata": {},
   "outputs": [],
   "source": []
  }
 ],
 "metadata": {
  "accelerator": "GPU",
  "colab": {
   "name": "Untitled0.ipynb",
   "provenance": []
  },
  "kernelspec": {
   "display_name": "Python 3",
   "language": "python",
   "name": "python3"
  },
  "language_info": {
   "codemirror_mode": {
    "name": "ipython",
    "version": 3
   },
   "file_extension": ".py",
   "mimetype": "text/x-python",
   "name": "python",
   "nbconvert_exporter": "python",
   "pygments_lexer": "ipython3",
   "version": "3.7.1"
  }
 },
 "nbformat": 4,
 "nbformat_minor": 1
}
